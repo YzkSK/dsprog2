{
 "cells": [
  {
   "cell_type": "code",
   "execution_count": null,
   "metadata": {},
   "outputs": [
    {
     "name": "stdout",
     "output_type": "stream",
     "text": [
      "2 + 43\n",
      "45\n",
      "45\n"
     ]
    }
   ],
   "source": [
    "import math\n",
    "result = \"2 * math.sqrt(43) + math.sqrt(5)\"\n",
    "a = \"2\" #str\n",
    "b = \"43\" #str\n",
    "\n",
    "d = 2 + 43 #int\n",
    "\n",
    "f = \"2 + 43\"\n",
    "\n",
    "c = a + b\n",
    "print(f)\n",
    "print(eval(f))\n",
    "print(d)\n",
    "\n",
    "2 ** 3 # 2^3\n",
    "math.sqrt(5) # √5\n",
    "math.factorial(5) # 5! = 5*4*3*2*1\n",
    "\n"
   ]
  },
  {
   "cell_type": "code",
   "execution_count": 21,
   "metadata": {},
   "outputs": [
    {
     "name": "stdout",
     "output_type": "stream",
     "text": [
      "21+21+31+21\n",
      "21\n",
      "21-+21+31+21\n",
      "12+13+12+-12\n"
     ]
    }
   ],
   "source": [
    "a = \"12+13+12+12\"\n",
    "b = \"12\"\n",
    "c = \"-12\"\n",
    "\n",
    "a = a[::-1]\n",
    "b = b[::-1]\n",
    "c = c[::-1]\n",
    "print(a)\n",
    "print(b)\n",
    "a = a.replace(b, c, 1)\n",
    "print(a)\n",
    "a = a[::-1]\n",
    "print(a)\n"
   ]
  },
  {
   "cell_type": "code",
   "execution_count": null,
   "metadata": {},
   "outputs": [
    {
     "name": "stdout",
     "output_type": "stream",
     "text": [
      "1\n"
     ]
    }
   ],
   "source": [
    "a = 12.1 / 12\n",
    "\n",
    "if a.is_integer():\n",
    "    a = int(a)\n",
    "\n",
    "print(a)"
   ]
  }
 ],
 "metadata": {
  "kernelspec": {
   "display_name": ".venv",
   "language": "python",
   "name": "python3"
  },
  "language_info": {
   "codemirror_mode": {
    "name": "ipython",
    "version": 3
   },
   "file_extension": ".py",
   "mimetype": "text/x-python",
   "name": "python",
   "nbconvert_exporter": "python",
   "pygments_lexer": "ipython3",
   "version": "3.12.3"
  }
 },
 "nbformat": 4,
 "nbformat_minor": 2
}
